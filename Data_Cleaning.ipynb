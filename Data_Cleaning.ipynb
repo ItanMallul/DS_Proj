{
 "cells": [
  {
   "cell_type": "code",
   "execution_count": 1,
   "id": "0712986a",
   "metadata": {},
   "outputs": [],
   "source": [
    "import re\n",
    "import pandas as pd\n",
    "import numpy as np"
   ]
  },
  {
   "cell_type": "markdown",
   "id": "491f2e5d",
   "metadata": {},
   "source": [
    "<head><h4>Functions:</h4></head><BR>\n",
    "<div>*fix_genre - receives the dataframe with the unorganized genres column, creates a column for each genre from a list, runs a regex on the existing rows to seperate the genres that start with a capital letter, after that I mark the column of each genre with 1's</div><BR>\n",
    "    <div>*numerize_col - receives the dataframe and a column name, turns said column from categorical to numerical value</div>"
   ]
  },
  {
   "cell_type": "code",
   "execution_count": 2,
   "id": "d5998932",
   "metadata": {},
   "outputs": [],
   "source": [
    "def fix_genre(df):\n",
    "    pattern = '[A-Z][^A-Z]*'\n",
    "    genre_list = ['Action','Adventure','Comedy','Drama','Ecchi','Fantasy', 'Horror', 'Mahou Shoujo', 'Mecha', 'Music','Mystery'\n",
    "                 ,'Psychological', 'Romance','Sci-Fi', 'Slice of Life', 'Sports','Supernatural','Thriller']\n",
    "    for genre in genre_list:\n",
    "        df[genre] = 0\n",
    "    row_index = 0\n",
    "    for genre in df['Genres']:\n",
    "        check_list = re.findall(pattern, genre)\n",
    "        for check in check_list:\n",
    "            if(check == None or check == 'Shoujo' or check =='Fi' or check=='Life'):\n",
    "                continue\n",
    "            if(check == 'Mahou '):\n",
    "                check += 'Shoujo'\n",
    "            if(check == 'Sci-'):\n",
    "                check += 'Fi'\n",
    "            if(check == 'Slice of '):\n",
    "                check += 'Life'\n",
    "            if(check in df.columns):\n",
    "                df.at[row_index, check] = 1\n",
    "        row_index +=1\n",
    "    return df"
   ]
  },
  {
   "cell_type": "code",
   "execution_count": 3,
   "id": "b6efe6f4",
   "metadata": {},
   "outputs": [],
   "source": [
    "def numerize_col(df, col_name):\n",
    "    value_list, unique_list = df[col_name].factorize()\n",
    "    df[col_name] = value_list\n",
    "    return df"
   ]
  },
  {
   "cell_type": "markdown",
   "id": "00a3ded3",
   "metadata": {},
   "source": [
    "<h4>Main Body:</h4>\n",
    "    <p>The main purpose of the body of the function is the cleaning of the dataframe and converting none numerical values, I start by getting the dataframes from two csvs and combining them into one dataframe, after that, I start by dropping unnecessary columns or those with too many missing values. in the next stage after checking which rows has too many missing values I get rid of them aswell. I fill the missing 'Source' rows with 'Other'.\n",
    "    \n",
    "after cleaning the dataframe of missing values, I reset the indexes, and send the dataframe to fix_genre function to get a new dataframe with organized genre columns, after that I drop the old 'Genres' column.\n",
    "\n",
    "afterwards I clean 'Mean Score' and 'Format' of unnecessary strings and convert them to numerical values using numerize_col function.\n",
    "\n",
    "Lastly I convert all columns from whatever dtypes they were to int64 and save the clean dataframe in a new .csv file.</p>"
   ]
  },
  {
   "cell_type": "code",
   "execution_count": 4,
   "id": "4cb487d3",
   "metadata": {},
   "outputs": [],
   "source": [
    "df_1 = pd.read_csv('./Anime_Data_Frame_1')\n",
    "df_2 = pd.read_csv('./Anime_Data_Frame_2')"
   ]
  },
  {
   "cell_type": "code",
   "execution_count": 9,
   "id": "c19c10c9",
   "metadata": {},
   "outputs": [],
   "source": [
    "complete_df = df_1.append(df_2)"
   ]
  },
  {
   "cell_type": "markdown",
   "id": "26dc2010",
   "metadata": {},
   "source": [
    "<div>Dropping unnecessary columns</div>"
   ]
  },
  {
   "cell_type": "code",
   "execution_count": null,
   "id": "d6be2d53",
   "metadata": {},
   "outputs": [],
   "source": [
    "drop_list = ['Unnamed: 0','Average Score','Duration', 'English','EpisodeDuration','Episodes','Studios','Hashtag','Synonyms', 'Producers','Status','Romaji','Native']\n",
    "col_dropped_df = complete_df.drop(drop_list, axis = 1)"
   ]
  },
  {
   "cell_type": "code",
   "execution_count": null,
   "id": "6a08ef67",
   "metadata": {},
   "outputs": [],
   "source": [
    "col_dropped_df"
   ]
  },
  {
   "cell_type": "markdown",
   "id": "d6c8a0cf",
   "metadata": {},
   "source": [
    "<div>Checking null values, and dropping rows accordingly.\n",
    "\n",
    "I prefer to fill Source rather than dropping those extra rows because all unknown values can be filled with 'Other'</div>"
   ]
  },
  {
   "cell_type": "code",
   "execution_count": null,
   "id": "a478fcb9",
   "metadata": {},
   "outputs": [],
   "source": [
    "col_dropped_df.isnull().sum()"
   ]
  },
  {
   "cell_type": "code",
   "execution_count": null,
   "id": "55a7dd20",
   "metadata": {},
   "outputs": [],
   "source": [
    "row_drop_list = ['Mean Score','Popularity','Favorites','Genres']\n",
    "preprocessed_df = col_dropped_df.dropna(axis = 0, subset = row_drop_list)\n"
   ]
  },
  {
   "cell_type": "code",
   "execution_count": null,
   "id": "2a29436e",
   "metadata": {},
   "outputs": [],
   "source": [
    "preprocessed_df.isnull().sum()"
   ]
  },
  {
   "cell_type": "code",
   "execution_count": null,
   "id": "efcc2c69",
   "metadata": {},
   "outputs": [],
   "source": [
    "preprocessed_df['Source'].fillna('Other', inplace = True)\n",
    "preprocessed_df.isnull().sum()"
   ]
  },
  {
   "cell_type": "code",
   "execution_count": null,
   "id": "e87e4d08",
   "metadata": {},
   "outputs": [],
   "source": [
    "preprocessed_df['Source'].unique()"
   ]
  },
  {
   "cell_type": "code",
   "execution_count": null,
   "id": "16ef73a1",
   "metadata": {},
   "outputs": [],
   "source": [
    "preprocessed_df.isnull().sum()"
   ]
  },
  {
   "cell_type": "code",
   "execution_count": null,
   "id": "b7fba8d5",
   "metadata": {},
   "outputs": [],
   "source": [
    "preprocessed_df.reset_index(drop=True, inplace=True)\n",
    "preprocessed_df['Format'].unique()"
   ]
  },
  {
   "cell_type": "code",
   "execution_count": null,
   "id": "11c66fe3",
   "metadata": {},
   "outputs": [],
   "source": [
    "format_dict = {k: v for v, k in enumerate(preprocessed_df['Format'].unique())}"
   ]
  },
  {
   "cell_type": "code",
   "execution_count": null,
   "id": "10e0b93e",
   "metadata": {},
   "outputs": [],
   "source": [
    "format_dict ##to remember each formats number"
   ]
  },
  {
   "cell_type": "code",
   "execution_count": null,
   "id": "000ee1b2",
   "metadata": {},
   "outputs": [],
   "source": [
    "genred_df = fix_genre(preprocessed_df)\n",
    "genred_df = genred_df.drop('Genres', axis = 1)"
   ]
  },
  {
   "cell_type": "markdown",
   "id": "bac6885f",
   "metadata": {},
   "source": [
    "<p>'Mean Score' and 'Format' have unnecessary characters that are in the way of numerizing the values, so we will clean them up before turning them into numbers.</p>"
   ]
  },
  {
   "cell_type": "code",
   "execution_count": null,
   "id": "4171f003",
   "metadata": {},
   "outputs": [],
   "source": [
    "genred_df['Mean Score'] = genred_df['Mean Score'].str.replace(\"%\",\"\")\n",
    "genred_df['Format'] = genred_df['Format'].str.replace(\"/n\",\"\").replace(\"\\n\",\"\")"
   ]
  },
  {
   "cell_type": "code",
   "execution_count": null,
   "id": "01ea1f9e",
   "metadata": {},
   "outputs": [],
   "source": [
    "preprocessed_df['Format'].unique()"
   ]
  },
  {
   "cell_type": "code",
   "execution_count": null,
   "id": "b96a232d",
   "metadata": {
    "scrolled": true
   },
   "outputs": [],
   "source": [
    "numerized_df = numerize_col(genred_df, 'Source')\n",
    "numerized_df = numerize_col(numerized_df, 'Format')\n",
    "numerized_df"
   ]
  },
  {
   "cell_type": "code",
   "execution_count": null,
   "id": "6db7f8ed",
   "metadata": {},
   "outputs": [],
   "source": [
    "numerized_df = numerized_df.astype({'Favorites': 'int64', 'Popularity': 'int64', 'Mean Score': 'int64'}, errors='raise')\n",
    "numerized_df.dtypes"
   ]
  },
  {
   "cell_type": "code",
   "execution_count": null,
   "id": "99123dc7",
   "metadata": {},
   "outputs": [],
   "source": [
    "numerized_df"
   ]
  },
  {
   "cell_type": "code",
   "execution_count": null,
   "id": "077a662f",
   "metadata": {},
   "outputs": [],
   "source": [
    "numerized_df.to_csv('clean_anime_dataframe', index_label = False)"
   ]
  }
 ],
 "metadata": {
  "kernelspec": {
   "display_name": "Python 3 (ipykernel)",
   "language": "python",
   "name": "python3"
  },
  "language_info": {
   "codemirror_mode": {
    "name": "ipython",
    "version": 3
   },
   "file_extension": ".py",
   "mimetype": "text/x-python",
   "name": "python",
   "nbconvert_exporter": "python",
   "pygments_lexer": "ipython3",
   "version": "3.8.8"
  }
 },
 "nbformat": 4,
 "nbformat_minor": 5
}
