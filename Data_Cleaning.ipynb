{
 "cells": [
  {
   "cell_type": "code",
   "execution_count": 1,
   "id": "0712986a",
   "metadata": {},
   "outputs": [],
   "source": [
    "import time \n",
    "import requests\n",
    "import re\n",
    "import bs4\n",
    "from bs4 import BeautifulSoup, Comment  \n",
    "import pandas as pd\n",
    "import scipy as sc\n",
    "import numpy as np"
   ]
  },
  {
   "cell_type": "code",
   "execution_count": 81,
   "id": "4cb487d3",
   "metadata": {},
   "outputs": [],
   "source": [
    "df = pd.read_csv('./Anime_Data_Frame')"
   ]
  },
  {
   "cell_type": "code",
   "execution_count": 82,
   "id": "ca284ec2",
   "metadata": {},
   "outputs": [
    {
     "data": {
      "text/plain": [
       "Unnamed: 0            0\n",
       "Format              130\n",
       "Episodes            176\n",
       "EpisodeDuration    2149\n",
       "Status              130\n",
       "Average Score      1582\n",
       "Mean Score          162\n",
       "Popularity          130\n",
       "Favorites          2206\n",
       "Studios            4523\n",
       "Producers          3761\n",
       "Source             2119\n",
       "Genres              725\n",
       "Romaji              130\n",
       "English            4770\n",
       "Native              317\n",
       "Synonyms           3786\n",
       "Hashtag            8492\n",
       "Duration           8042\n",
       "dtype: int64"
      ]
     },
     "execution_count": 82,
     "metadata": {},
     "output_type": "execute_result"
    }
   ],
   "source": [
    "df.isnull().sum()"
   ]
  },
  {
   "cell_type": "code",
   "execution_count": 83,
   "id": "120fff4e",
   "metadata": {},
   "outputs": [
    {
     "data": {
      "text/plain": [
       "array([nan, 'TV', 'Special', 'TV Short', 'ONA', 'OVA', 'Movie',\n",
       "       'ONA\\n(Chinese)', 'Music', 'TV\\n(Chinese)',\n",
       "       'Movie\\n(South Korean)', 'Movie\\n(Chinese)', 'TV\\n(South Korean)',\n",
       "       'TV Short\\n(South Korean)', 'ONA\\n(South Korean)',\n",
       "       'Movie\\n(Doujin)', 'TV Short\\n(Chinese)', 'OVA\\n(South Korean)',\n",
       "       'ONA\\n(Taiwanese)', 'Movie\\n\\n(South Korean)',\n",
       "       'Special\\n(Chinese)'], dtype=object)"
      ]
     },
     "execution_count": 83,
     "metadata": {},
     "output_type": "execute_result"
    }
   ],
   "source": [
    "df.Format.unique()"
   ]
  },
  {
   "cell_type": "code",
   "execution_count": 84,
   "id": "d6be2d53",
   "metadata": {},
   "outputs": [],
   "source": [
    "drop_list = ['Unnamed: 0','Duration', 'English','EpisodeDuration','Episodes','Studios','Hashtag','Synonyms', 'Producers','Status']\n",
    "df = df.drop(drop_list, axis = 1)"
   ]
  },
  {
   "cell_type": "code",
   "execution_count": 85,
   "id": "6a08ef67",
   "metadata": {},
   "outputs": [
    {
     "data": {
      "text/html": [
       "<div>\n",
       "<style scoped>\n",
       "    .dataframe tbody tr th:only-of-type {\n",
       "        vertical-align: middle;\n",
       "    }\n",
       "\n",
       "    .dataframe tbody tr th {\n",
       "        vertical-align: top;\n",
       "    }\n",
       "\n",
       "    .dataframe thead th {\n",
       "        text-align: right;\n",
       "    }\n",
       "</style>\n",
       "<table border=\"1\" class=\"dataframe\">\n",
       "  <thead>\n",
       "    <tr style=\"text-align: right;\">\n",
       "      <th></th>\n",
       "      <th>Format</th>\n",
       "      <th>Average Score</th>\n",
       "      <th>Mean Score</th>\n",
       "      <th>Popularity</th>\n",
       "      <th>Favorites</th>\n",
       "      <th>Source</th>\n",
       "      <th>Genres</th>\n",
       "      <th>Romaji</th>\n",
       "      <th>Native</th>\n",
       "    </tr>\n",
       "  </thead>\n",
       "  <tbody>\n",
       "    <tr>\n",
       "      <th>0</th>\n",
       "      <td>NaN</td>\n",
       "      <td>NaN</td>\n",
       "      <td>NaN</td>\n",
       "      <td>NaN</td>\n",
       "      <td>NaN</td>\n",
       "      <td>NaN</td>\n",
       "      <td>NaN</td>\n",
       "      <td>NaN</td>\n",
       "      <td>NaN</td>\n",
       "    </tr>\n",
       "    <tr>\n",
       "      <th>1</th>\n",
       "      <td>TV</td>\n",
       "      <td>66%</td>\n",
       "      <td>66%</td>\n",
       "      <td>6050.0</td>\n",
       "      <td>69.0</td>\n",
       "      <td>Manga</td>\n",
       "      <td>ComedyDramaFantasyMahou ShoujoRomance</td>\n",
       "      <td>Shin Shirayuki-hime Densetsu Pretear</td>\n",
       "      <td>新白雪姫伝説プリーティア</td>\n",
       "    </tr>\n",
       "    <tr>\n",
       "      <th>2</th>\n",
       "      <td>TV</td>\n",
       "      <td>71%</td>\n",
       "      <td>72%</td>\n",
       "      <td>6307.0</td>\n",
       "      <td>98.0</td>\n",
       "      <td>Manga</td>\n",
       "      <td>ActionAdventureDramaSci-Fi</td>\n",
       "      <td>Uchuu Kaizoku Captain Harlock</td>\n",
       "      <td>宇宙海賊キャプテンハーロック</td>\n",
       "    </tr>\n",
       "    <tr>\n",
       "      <th>3</th>\n",
       "      <td>Special</td>\n",
       "      <td>NaN</td>\n",
       "      <td>59%</td>\n",
       "      <td>103.0</td>\n",
       "      <td>NaN</td>\n",
       "      <td>NaN</td>\n",
       "      <td>ComedySupernatural</td>\n",
       "      <td>Esper Mami Special: My Angel Mami-chan</td>\n",
       "      <td>エスパー魔美スペシャル マイエンジェル魔美ちゃん</td>\n",
       "    </tr>\n",
       "    <tr>\n",
       "      <th>4</th>\n",
       "      <td>TV Short</td>\n",
       "      <td>59%</td>\n",
       "      <td>60%</td>\n",
       "      <td>6176.0</td>\n",
       "      <td>48.0</td>\n",
       "      <td>Manga</td>\n",
       "      <td>ComedyMechaSci-FiSlice of Life</td>\n",
       "      <td>Uchuu Senkan Tiramisu</td>\n",
       "      <td>宇宙戦艦ティラミス</td>\n",
       "    </tr>\n",
       "    <tr>\n",
       "      <th>...</th>\n",
       "      <td>...</td>\n",
       "      <td>...</td>\n",
       "      <td>...</td>\n",
       "      <td>...</td>\n",
       "      <td>...</td>\n",
       "      <td>...</td>\n",
       "      <td>...</td>\n",
       "      <td>...</td>\n",
       "      <td>...</td>\n",
       "    </tr>\n",
       "    <tr>\n",
       "      <th>9995</th>\n",
       "      <td>ONA</td>\n",
       "      <td>NaN</td>\n",
       "      <td>59%</td>\n",
       "      <td>118.0</td>\n",
       "      <td>NaN</td>\n",
       "      <td>Other</td>\n",
       "      <td>NaN</td>\n",
       "      <td>Shirotan: Shirotan ga Ippai!</td>\n",
       "      <td>しろたん しろたんがいっぱい!</td>\n",
       "    </tr>\n",
       "    <tr>\n",
       "      <th>9996</th>\n",
       "      <td>OVA</td>\n",
       "      <td>NaN</td>\n",
       "      <td>48%</td>\n",
       "      <td>95.0</td>\n",
       "      <td>1.0</td>\n",
       "      <td>NaN</td>\n",
       "      <td>ComedyDramaRomance</td>\n",
       "      <td>Chuuhai Lemon Love 30S</td>\n",
       "      <td>酎ハイれもん：LOVE30S</td>\n",
       "    </tr>\n",
       "    <tr>\n",
       "      <th>9997</th>\n",
       "      <td>Movie</td>\n",
       "      <td>65%</td>\n",
       "      <td>65%</td>\n",
       "      <td>7219.0</td>\n",
       "      <td>29.0</td>\n",
       "      <td>Original</td>\n",
       "      <td>ActionAdventureComedyFantasy</td>\n",
       "      <td>ONE PIECE 3D: Mugiwara Chase</td>\n",
       "      <td>ONE PIECE 3D 麦わらチェイス</td>\n",
       "    </tr>\n",
       "    <tr>\n",
       "      <th>9998</th>\n",
       "      <td>TV Short</td>\n",
       "      <td>74%</td>\n",
       "      <td>75%</td>\n",
       "      <td>8532.0</td>\n",
       "      <td>115.0</td>\n",
       "      <td>Other</td>\n",
       "      <td>ComedySlice of Life</td>\n",
       "      <td>Pingu in the City</td>\n",
       "      <td>ピングー in ザ・シティ</td>\n",
       "    </tr>\n",
       "    <tr>\n",
       "      <th>9999</th>\n",
       "      <td>TV Short</td>\n",
       "      <td>71%</td>\n",
       "      <td>73%</td>\n",
       "      <td>2101.0</td>\n",
       "      <td>19.0</td>\n",
       "      <td>Other</td>\n",
       "      <td>ComedySlice of Life</td>\n",
       "      <td>Pingu in the City 2</td>\n",
       "      <td>ピングー in ザ・シティ2</td>\n",
       "    </tr>\n",
       "  </tbody>\n",
       "</table>\n",
       "<p>10000 rows × 9 columns</p>\n",
       "</div>"
      ],
      "text/plain": [
       "        Format Average Score Mean Score  Popularity  Favorites    Source  \\\n",
       "0          NaN           NaN        NaN         NaN        NaN       NaN   \n",
       "1           TV           66%        66%      6050.0       69.0     Manga   \n",
       "2           TV           71%        72%      6307.0       98.0     Manga   \n",
       "3      Special           NaN        59%       103.0        NaN       NaN   \n",
       "4     TV Short           59%        60%      6176.0       48.0     Manga   \n",
       "...        ...           ...        ...         ...        ...       ...   \n",
       "9995       ONA           NaN        59%       118.0        NaN     Other   \n",
       "9996       OVA           NaN        48%        95.0        1.0       NaN   \n",
       "9997     Movie           65%        65%      7219.0       29.0  Original   \n",
       "9998  TV Short           74%        75%      8532.0      115.0     Other   \n",
       "9999  TV Short           71%        73%      2101.0       19.0     Other   \n",
       "\n",
       "                                     Genres  \\\n",
       "0                                       NaN   \n",
       "1     ComedyDramaFantasyMahou ShoujoRomance   \n",
       "2                ActionAdventureDramaSci-Fi   \n",
       "3                        ComedySupernatural   \n",
       "4            ComedyMechaSci-FiSlice of Life   \n",
       "...                                     ...   \n",
       "9995                                    NaN   \n",
       "9996                     ComedyDramaRomance   \n",
       "9997           ActionAdventureComedyFantasy   \n",
       "9998                    ComedySlice of Life   \n",
       "9999                    ComedySlice of Life   \n",
       "\n",
       "                                      Romaji                    Native  \n",
       "0                                        NaN                       NaN  \n",
       "1       Shin Shirayuki-hime Densetsu Pretear              新白雪姫伝説プリーティア  \n",
       "2              Uchuu Kaizoku Captain Harlock            宇宙海賊キャプテンハーロック  \n",
       "3     Esper Mami Special: My Angel Mami-chan  エスパー魔美スペシャル マイエンジェル魔美ちゃん  \n",
       "4                      Uchuu Senkan Tiramisu                 宇宙戦艦ティラミス  \n",
       "...                                      ...                       ...  \n",
       "9995            Shirotan: Shirotan ga Ippai!           しろたん しろたんがいっぱい!  \n",
       "9996                  Chuuhai Lemon Love 30S            酎ハイれもん：LOVE30S  \n",
       "9997            ONE PIECE 3D: Mugiwara Chase      ONE PIECE 3D 麦わらチェイス  \n",
       "9998                       Pingu in the City             ピングー in ザ・シティ  \n",
       "9999                     Pingu in the City 2            ピングー in ザ・シティ2  \n",
       "\n",
       "[10000 rows x 9 columns]"
      ]
     },
     "execution_count": 85,
     "metadata": {},
     "output_type": "execute_result"
    }
   ],
   "source": [
    "df"
   ]
  },
  {
   "cell_type": "code",
   "execution_count": 86,
   "id": "a478fcb9",
   "metadata": {},
   "outputs": [
    {
     "data": {
      "text/plain": [
       "Format            130\n",
       "Average Score    1582\n",
       "Mean Score        162\n",
       "Popularity        130\n",
       "Favorites        2206\n",
       "Source           2119\n",
       "Genres            725\n",
       "Romaji            130\n",
       "Native            317\n",
       "dtype: int64"
      ]
     },
     "execution_count": 86,
     "metadata": {},
     "output_type": "execute_result"
    }
   ],
   "source": [
    "\n",
    "df.isnull().sum()"
   ]
  },
  {
   "cell_type": "code",
   "execution_count": 25,
   "id": "a63b550c",
   "metadata": {},
   "outputs": [
    {
     "data": {
      "text/plain": [
       "array([nan, 'Manga', 'Light Novel', 'Video Game', 'Original', 'Other',\n",
       "       'Novel', 'Comic', 'Web Novel', 'Visual Novel', 'Picture Book',\n",
       "       'Multimedia Project', 'Doujinshi', 'Anime', 'Game', 'Live Action'],\n",
       "      dtype=object)"
      ]
     },
     "execution_count": 25,
     "metadata": {},
     "output_type": "execute_result"
    }
   ],
   "source": [
    "df.Source.unique()"
   ]
  },
  {
   "cell_type": "code",
   "execution_count": 87,
   "id": "55a7dd20",
   "metadata": {},
   "outputs": [],
   "source": [
    "row_drop_list = ['Average Score','Mean Score','Popularity','Favorites','Genres','Romaji','Native']\n",
    "small_df = df.dropna(axis = 0, subset = row_drop_list)\n"
   ]
  },
  {
   "cell_type": "code",
   "execution_count": 88,
   "id": "2a29436e",
   "metadata": {},
   "outputs": [
    {
     "data": {
      "text/plain": [
       "Format             0\n",
       "Average Score      0\n",
       "Mean Score         0\n",
       "Popularity         0\n",
       "Favorites          0\n",
       "Source           793\n",
       "Genres             0\n",
       "Romaji             0\n",
       "Native             0\n",
       "dtype: int64"
      ]
     },
     "execution_count": 88,
     "metadata": {},
     "output_type": "execute_result"
    }
   ],
   "source": [
    "small_df.isnull().sum()"
   ]
  },
  {
   "cell_type": "code",
   "execution_count": 89,
   "id": "efcc2c69",
   "metadata": {},
   "outputs": [
    {
     "name": "stderr",
     "output_type": "stream",
     "text": [
      "C:\\Users\\ItanM\\Anaconda3\\lib\\site-packages\\pandas\\core\\generic.py:6392: SettingWithCopyWarning: \n",
      "A value is trying to be set on a copy of a slice from a DataFrame\n",
      "\n",
      "See the caveats in the documentation: https://pandas.pydata.org/pandas-docs/stable/user_guide/indexing.html#returning-a-view-versus-a-copy\n",
      "  return self._update_inplace(result)\n"
     ]
    },
    {
     "data": {
      "text/plain": [
       "Format           0\n",
       "Average Score    0\n",
       "Mean Score       0\n",
       "Popularity       0\n",
       "Favorites        0\n",
       "Source           0\n",
       "Genres           0\n",
       "Romaji           0\n",
       "Native           0\n",
       "dtype: int64"
      ]
     },
     "execution_count": 89,
     "metadata": {},
     "output_type": "execute_result"
    }
   ],
   "source": [
    "small_df['Source'].fillna('Other', inplace = True)\n",
    "small_df.isnull().sum()"
   ]
  },
  {
   "cell_type": "code",
   "execution_count": 52,
   "id": "16ef73a1",
   "metadata": {},
   "outputs": [
    {
     "data": {
      "text/plain": [
       "['Comedy',\n",
       " 'Drama',\n",
       " 'Fantasy',\n",
       " 'Psychological',\n",
       " 'Thriller',\n",
       " 'Slice of ',\n",
       " 'Life']"
      ]
     },
     "execution_count": 52,
     "metadata": {},
     "output_type": "execute_result"
    }
   ],
   "source": []
  },
  {
   "cell_type": "code",
   "execution_count": 70,
   "id": "9811c73b",
   "metadata": {},
   "outputs": [
    {
     "ename": "AttributeError",
     "evalue": "'DataFrame' object has no attribute 'Slice_of_Life'",
     "output_type": "error",
     "traceback": [
      "\u001b[1;31m---------------------------------------------------------------------------\u001b[0m",
      "\u001b[1;31mAttributeError\u001b[0m                            Traceback (most recent call last)",
      "\u001b[1;32m~\\AppData\\Local\\Temp/ipykernel_5072/239377292.py\u001b[0m in \u001b[0;36m<module>\u001b[1;34m\u001b[0m\n\u001b[0;32m      8\u001b[0m         \u001b[1;32mif\u001b[0m\u001b[1;33m(\u001b[0m\u001b[0mgenre\u001b[0m \u001b[1;33m==\u001b[0m \u001b[0mcol\u001b[0m\u001b[1;33m)\u001b[0m\u001b[1;33m:\u001b[0m\u001b[1;33m\u001b[0m\u001b[1;33m\u001b[0m\u001b[0m\n\u001b[0;32m      9\u001b[0m             \u001b[0msmall_df\u001b[0m\u001b[1;33m.\u001b[0m\u001b[0mat\u001b[0m\u001b[1;33m[\u001b[0m\u001b[1;36m1\u001b[0m\u001b[1;33m,\u001b[0m \u001b[0mcol\u001b[0m\u001b[1;33m]\u001b[0m \u001b[1;33m=\u001b[0m \u001b[1;36m1\u001b[0m\u001b[1;33m\u001b[0m\u001b[1;33m\u001b[0m\u001b[0m\n\u001b[1;32m---> 10\u001b[1;33m \u001b[0msmall_df\u001b[0m\u001b[1;33m.\u001b[0m\u001b[0mSlice_of_Life\u001b[0m\u001b[1;33m.\u001b[0m\u001b[0mdescribe\u001b[0m\u001b[1;33m(\u001b[0m\u001b[1;33m)\u001b[0m\u001b[1;33m\u001b[0m\u001b[1;33m\u001b[0m\u001b[0m\n\u001b[0m",
      "\u001b[1;32m~\\Anaconda3\\lib\\site-packages\\pandas\\core\\generic.py\u001b[0m in \u001b[0;36m__getattr__\u001b[1;34m(self, name)\u001b[0m\n\u001b[0;32m   5485\u001b[0m         ):\n\u001b[0;32m   5486\u001b[0m             \u001b[1;32mreturn\u001b[0m \u001b[0mself\u001b[0m\u001b[1;33m[\u001b[0m\u001b[0mname\u001b[0m\u001b[1;33m]\u001b[0m\u001b[1;33m\u001b[0m\u001b[1;33m\u001b[0m\u001b[0m\n\u001b[1;32m-> 5487\u001b[1;33m         \u001b[1;32mreturn\u001b[0m \u001b[0mobject\u001b[0m\u001b[1;33m.\u001b[0m\u001b[0m__getattribute__\u001b[0m\u001b[1;33m(\u001b[0m\u001b[0mself\u001b[0m\u001b[1;33m,\u001b[0m \u001b[0mname\u001b[0m\u001b[1;33m)\u001b[0m\u001b[1;33m\u001b[0m\u001b[1;33m\u001b[0m\u001b[0m\n\u001b[0m\u001b[0;32m   5488\u001b[0m \u001b[1;33m\u001b[0m\u001b[0m\n\u001b[0;32m   5489\u001b[0m     \u001b[1;32mdef\u001b[0m \u001b[0m__setattr__\u001b[0m\u001b[1;33m(\u001b[0m\u001b[0mself\u001b[0m\u001b[1;33m,\u001b[0m \u001b[0mname\u001b[0m\u001b[1;33m:\u001b[0m \u001b[0mstr\u001b[0m\u001b[1;33m,\u001b[0m \u001b[0mvalue\u001b[0m\u001b[1;33m)\u001b[0m \u001b[1;33m->\u001b[0m \u001b[1;32mNone\u001b[0m\u001b[1;33m:\u001b[0m\u001b[1;33m\u001b[0m\u001b[1;33m\u001b[0m\u001b[0m\n",
      "\u001b[1;31mAttributeError\u001b[0m: 'DataFrame' object has no attribute 'Slice_of_Life'"
     ]
    }
   ],
   "source": []
  },
  {
   "cell_type": "code",
   "execution_count": 80,
   "id": "6b6230b5",
   "metadata": {},
   "outputs": [
    {
     "data": {
      "text/plain": [
       "Format           1967\n",
       "Average Score    1967\n",
       "Mean Score       1967\n",
       "Popularity       1967\n",
       "Favorites        1967\n",
       "Source           1967\n",
       "Genres           1967\n",
       "Romaji           1967\n",
       "Native           1967\n",
       "Action           1250\n",
       "Adventure        1494\n",
       "Comedy           1010\n",
       "Drama            1482\n",
       "Ecchi            1766\n",
       "Fantasy          1506\n",
       "Horror           1878\n",
       "Mahou Shoujo     1966\n",
       "Mecha            1753\n",
       "Music            1876\n",
       "Mystery          1833\n",
       "Psychology       1966\n",
       "Romance          1567\n",
       "Sci-Fi           1501\n",
       "Slice of Life    1966\n",
       "Sports           1841\n",
       "Supernatural     1718\n",
       "Thriller         1932\n",
       "Psychological    1874\n",
       "dtype: int64"
      ]
     },
     "execution_count": 80,
     "metadata": {},
     "output_type": "execute_result"
    }
   ],
   "source": []
  },
  {
   "cell_type": "code",
   "execution_count": 90,
   "id": "4171f003",
   "metadata": {},
   "outputs": [],
   "source": [
    "def fix_genre(df):\n",
    "    pattern = '[A-Z][^A-Z]*'\n",
    "    genre_list = ['Action','Adventure','Comedy','Drama','Ecchi','Fantasy', 'Horror', 'Mahou Shoujo', 'Mecha', 'Music','Mystery'\n",
    "                 ,'Psychological', 'Romance','Sci-Fi', 'Slice of Life', 'Sports','Supernatural','Thriller']\n",
    "    for genre in genre_list:\n",
    "        df[genre] = 0\n",
    "    row_index = 1\n",
    "    for genre in df['Genres']:\n",
    "        check_list = re.findall(pattern, genre)\n",
    "        for check in check_list:\n",
    "            if(check == 'Mahou'):\n",
    "                check += ' Shoujo'\n",
    "            if(check == 'Sci-'):\n",
    "                check += 'Fi'\n",
    "            if(check == 'Slice of'):\n",
    "                check += ' Life'\n",
    "            for col in df:\n",
    "                if(check == col):\n",
    "                    df.at[row_index, col] = 1\n",
    "        row_index +=1\n",
    "    return df"
   ]
  },
  {
   "cell_type": "code",
   "execution_count": 97,
   "id": "db8af607",
   "metadata": {},
   "outputs": [
    {
     "name": "stdout",
     "output_type": "stream",
     "text": [
      "9028\n"
     ]
    }
   ],
   "source": [
    "count = 1\n",
    "for genre in small_df['Genres']:\n",
    "    count += 1\n",
    "print(count)"
   ]
  },
  {
   "cell_type": "code",
   "execution_count": 99,
   "id": "b56f5d76",
   "metadata": {},
   "outputs": [
    {
     "name": "stdout",
     "output_type": "stream",
     "text": [
      "<class 'pandas.core.frame.DataFrame'>\n",
      "Int64Index: 9027 entries, 1 to 7061\n",
      "Data columns (total 27 columns):\n",
      " #   Column         Non-Null Count  Dtype  \n",
      "---  ------         --------------  -----  \n",
      " 0   Format         7061 non-null   object \n",
      " 1   Average Score  7061 non-null   object \n",
      " 2   Mean Score     7061 non-null   object \n",
      " 3   Popularity     7061 non-null   float64\n",
      " 4   Favorites      7061 non-null   float64\n",
      " 5   Source         7061 non-null   object \n",
      " 6   Genres         7061 non-null   object \n",
      " 7   Romaji         7061 non-null   object \n",
      " 8   Native         7061 non-null   object \n",
      " 9   Action         7777 non-null   float64\n",
      " 10  Adventure      7533 non-null   float64\n",
      " 11  Comedy         8017 non-null   float64\n",
      " 12  Drama          7545 non-null   float64\n",
      " 13  Ecchi          7261 non-null   float64\n",
      " 14  Fantasy        7521 non-null   float64\n",
      " 15  Horror         7149 non-null   float64\n",
      " 16  Mahou Shoujo   7061 non-null   float64\n",
      " 17  Mecha          7274 non-null   float64\n",
      " 18  Music          7151 non-null   float64\n",
      " 19  Mystery        7194 non-null   float64\n",
      " 20  Psychological  7153 non-null   float64\n",
      " 21  Romance        7460 non-null   float64\n",
      " 22  Sci-Fi         7526 non-null   float64\n",
      " 23  Slice of Life  7061 non-null   float64\n",
      " 24  Sports         7186 non-null   float64\n",
      " 25  Supernatural   7309 non-null   float64\n",
      " 26  Thriller       7095 non-null   float64\n",
      "dtypes: float64(20), object(7)\n",
      "memory usage: 2.2+ MB\n"
     ]
    }
   ],
   "source": [
    "small_df.info()"
   ]
  }
 ],
 "metadata": {
  "kernelspec": {
   "display_name": "Python 3 (ipykernel)",
   "language": "python",
   "name": "python3"
  },
  "language_info": {
   "codemirror_mode": {
    "name": "ipython",
    "version": 3
   },
   "file_extension": ".py",
   "mimetype": "text/x-python",
   "name": "python",
   "nbconvert_exporter": "python",
   "pygments_lexer": "ipython3",
   "version": "3.9.7"
  }
 },
 "nbformat": 4,
 "nbformat_minor": 5
}
