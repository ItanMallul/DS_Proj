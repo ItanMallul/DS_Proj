{
 "cells": [
  {
   "cell_type": "markdown",
   "id": "91a4afc9",
   "metadata": {},
   "source": [
    "<h2>Machine Learning</h2>\n",
    "<br>\n",
    "<p>Model learning and predicting</p>"
   ]
  },
  {
   "cell_type": "code",
   "execution_count": null,
   "id": "569ebcba",
   "metadata": {},
   "outputs": [],
   "source": [
    "#pip install catboost"
   ]
  },
  {
   "cell_type": "code",
   "execution_count": 59,
   "id": "833be3f2",
   "metadata": {},
   "outputs": [],
   "source": [
    "import numpy as np\n",
    "from numpy import arange\n",
    "from numpy import absolute\n",
    "from numpy import mean\n",
    "from numpy import std\n",
    "import pandas as pd\n",
    "#-------sklearn etc:\n",
    "import sklearn\n",
    "from sklearn import linear_model\n",
    "from sklearn.metrics import r2_score\n",
    "from sklearn.preprocessing import StandardScaler, MinMaxScaler,LabelEncoder ## might not scale, less effective in regression and tree based algorithms\n",
    "from sklearn.linear_model import LinearRegression\n",
    "from sklearn.model_selection import train_test_split\n",
    "from sklearn.model_selection import GridSearchCV\n",
    "from sklearn.model_selection import RepeatedKFold\n",
    "from sklearn.model_selection import cross_val_score\n",
    "from sklearn.metrics import r2_score, make_scorer\n",
    "from sklearn.linear_model import Lasso\n",
    "#-------metrics:\n",
    "from sklearn import metrics\n",
    "from sklearn.metrics import accuracy_score, precision_score, recall_score, f1_score, confusion_matrix\n",
    "#-------plots:\n",
    "from matplotlib import pyplot as plt\n",
    "#-------Extra models:\n",
    "from catboost import CatBoostRegressor"
   ]
  },
  {
   "cell_type": "markdown",
   "id": "1862ec8c",
   "metadata": {},
   "source": [
    "<h4>Functions:</h4>"
   ]
  },
  {
   "cell_type": "code",
   "execution_count": 2,
   "id": "81f1ad20",
   "metadata": {},
   "outputs": [],
   "source": [
    "def split_train_test(df):\n",
    "    y = df['Mean Score']\n",
    "    X = df.drop('Mean Score', axis = 1)\n",
    "    return train_test_split(X, y, test_size=0.33, random_state=42)"
   ]
  },
  {
   "cell_type": "code",
   "execution_count": 3,
   "id": "5a0b58ee",
   "metadata": {},
   "outputs": [],
   "source": [
    "def r_adjust(y, y_pred, **kwargs):\n",
    "    res = r2_score(y, y_pred)\n",
    "    Adj_r2 = 1 - (1 - res * (len(y) - 1) / (len(y) - kwargs['X'].shape[1] - 1))\n",
    "    return Adj_r2"
   ]
  },
  {
   "cell_type": "code",
   "execution_count": 65,
   "id": "8b5da715",
   "metadata": {},
   "outputs": [],
   "source": [
    "def run_cat_boost_model(model_class, df, params):\n",
    "    model = model_class(verbose=False, one_hot_max_size=255)\n",
    "    X_train, X_test, y_train, y_test = split_train_test(df)\n",
    "    grid_search = GridSearchCV(estimator=model, param_grid=params,\n",
    "                               cv=5, n_jobs=3, verbose=1,\n",
    "                               scoring=make_scorer(r_adjust, greater_is_better=True, X=X_train))\n",
    "    model.fit(X_train, y_train)\n",
    "    grid_search.fit(X_train, y_train)\n",
    "    best_model = grid_search.best_estimator_\n",
    "    y_predict = model.predict(X_test)\n",
    "    y_predict_best = best_model.predict(X_test)\n",
    "    try:\n",
    "        print(f\"Best hyperparams : {best_model.__dict__['_init_params']}\")\n",
    "    except:\n",
    "        print(f\"Best hyperparams: {best_model}\")\n",
    "    return r2_score(y_test, y_predict), r2_score(y_test, y_predict_best)"
   ]
  },
  {
   "cell_type": "markdown",
   "id": "1ef5487b",
   "metadata": {},
   "source": [
    "<h4>Main Body:</h4>"
   ]
  },
  {
   "cell_type": "code",
   "execution_count": 29,
   "id": "fbb5a1c3",
   "metadata": {},
   "outputs": [
    {
     "data": {
      "text/html": [
       "<div>\n",
       "<style scoped>\n",
       "    .dataframe tbody tr th:only-of-type {\n",
       "        vertical-align: middle;\n",
       "    }\n",
       "\n",
       "    .dataframe tbody tr th {\n",
       "        vertical-align: top;\n",
       "    }\n",
       "\n",
       "    .dataframe thead th {\n",
       "        text-align: right;\n",
       "    }\n",
       "</style>\n",
       "<table border=\"1\" class=\"dataframe\">\n",
       "  <thead>\n",
       "    <tr style=\"text-align: right;\">\n",
       "      <th></th>\n",
       "      <th>Format</th>\n",
       "      <th>Mean Score</th>\n",
       "      <th>Popularity</th>\n",
       "      <th>Favorites</th>\n",
       "      <th>Source</th>\n",
       "      <th>Action</th>\n",
       "      <th>Adventure</th>\n",
       "      <th>Comedy</th>\n",
       "      <th>Drama</th>\n",
       "      <th>Ecchi</th>\n",
       "      <th>...</th>\n",
       "      <th>Mecha</th>\n",
       "      <th>Music</th>\n",
       "      <th>Mystery</th>\n",
       "      <th>Psychological</th>\n",
       "      <th>Romance</th>\n",
       "      <th>Sci-Fi</th>\n",
       "      <th>Slice of Life</th>\n",
       "      <th>Sports</th>\n",
       "      <th>Supernatural</th>\n",
       "      <th>Thriller</th>\n",
       "    </tr>\n",
       "  </thead>\n",
       "  <tbody>\n",
       "    <tr>\n",
       "      <th>0</th>\n",
       "      <td>0</td>\n",
       "      <td>66</td>\n",
       "      <td>6050</td>\n",
       "      <td>69</td>\n",
       "      <td>0</td>\n",
       "      <td>0</td>\n",
       "      <td>0</td>\n",
       "      <td>1</td>\n",
       "      <td>1</td>\n",
       "      <td>0</td>\n",
       "      <td>...</td>\n",
       "      <td>0</td>\n",
       "      <td>0</td>\n",
       "      <td>0</td>\n",
       "      <td>0</td>\n",
       "      <td>1</td>\n",
       "      <td>0</td>\n",
       "      <td>0</td>\n",
       "      <td>0</td>\n",
       "      <td>0</td>\n",
       "      <td>0</td>\n",
       "    </tr>\n",
       "    <tr>\n",
       "      <th>1</th>\n",
       "      <td>0</td>\n",
       "      <td>72</td>\n",
       "      <td>6307</td>\n",
       "      <td>98</td>\n",
       "      <td>0</td>\n",
       "      <td>1</td>\n",
       "      <td>1</td>\n",
       "      <td>0</td>\n",
       "      <td>1</td>\n",
       "      <td>0</td>\n",
       "      <td>...</td>\n",
       "      <td>0</td>\n",
       "      <td>0</td>\n",
       "      <td>0</td>\n",
       "      <td>0</td>\n",
       "      <td>0</td>\n",
       "      <td>1</td>\n",
       "      <td>0</td>\n",
       "      <td>0</td>\n",
       "      <td>0</td>\n",
       "      <td>0</td>\n",
       "    </tr>\n",
       "    <tr>\n",
       "      <th>2</th>\n",
       "      <td>1</td>\n",
       "      <td>60</td>\n",
       "      <td>6176</td>\n",
       "      <td>48</td>\n",
       "      <td>0</td>\n",
       "      <td>0</td>\n",
       "      <td>0</td>\n",
       "      <td>1</td>\n",
       "      <td>0</td>\n",
       "      <td>0</td>\n",
       "      <td>...</td>\n",
       "      <td>1</td>\n",
       "      <td>0</td>\n",
       "      <td>0</td>\n",
       "      <td>0</td>\n",
       "      <td>0</td>\n",
       "      <td>1</td>\n",
       "      <td>1</td>\n",
       "      <td>0</td>\n",
       "      <td>0</td>\n",
       "      <td>0</td>\n",
       "    </tr>\n",
       "    <tr>\n",
       "      <th>3</th>\n",
       "      <td>0</td>\n",
       "      <td>61</td>\n",
       "      <td>43462</td>\n",
       "      <td>656</td>\n",
       "      <td>0</td>\n",
       "      <td>0</td>\n",
       "      <td>0</td>\n",
       "      <td>0</td>\n",
       "      <td>1</td>\n",
       "      <td>0</td>\n",
       "      <td>...</td>\n",
       "      <td>0</td>\n",
       "      <td>0</td>\n",
       "      <td>0</td>\n",
       "      <td>1</td>\n",
       "      <td>0</td>\n",
       "      <td>0</td>\n",
       "      <td>0</td>\n",
       "      <td>0</td>\n",
       "      <td>1</td>\n",
       "      <td>0</td>\n",
       "    </tr>\n",
       "    <tr>\n",
       "      <th>4</th>\n",
       "      <td>2</td>\n",
       "      <td>76</td>\n",
       "      <td>58959</td>\n",
       "      <td>797</td>\n",
       "      <td>1</td>\n",
       "      <td>0</td>\n",
       "      <td>0</td>\n",
       "      <td>1</td>\n",
       "      <td>1</td>\n",
       "      <td>0</td>\n",
       "      <td>...</td>\n",
       "      <td>0</td>\n",
       "      <td>0</td>\n",
       "      <td>0</td>\n",
       "      <td>1</td>\n",
       "      <td>0</td>\n",
       "      <td>0</td>\n",
       "      <td>0</td>\n",
       "      <td>0</td>\n",
       "      <td>0</td>\n",
       "      <td>1</td>\n",
       "    </tr>\n",
       "    <tr>\n",
       "      <th>...</th>\n",
       "      <td>...</td>\n",
       "      <td>...</td>\n",
       "      <td>...</td>\n",
       "      <td>...</td>\n",
       "      <td>...</td>\n",
       "      <td>...</td>\n",
       "      <td>...</td>\n",
       "      <td>...</td>\n",
       "      <td>...</td>\n",
       "      <td>...</td>\n",
       "      <td>...</td>\n",
       "      <td>...</td>\n",
       "      <td>...</td>\n",
       "      <td>...</td>\n",
       "      <td>...</td>\n",
       "      <td>...</td>\n",
       "      <td>...</td>\n",
       "      <td>...</td>\n",
       "      <td>...</td>\n",
       "      <td>...</td>\n",
       "      <td>...</td>\n",
       "    </tr>\n",
       "    <tr>\n",
       "      <th>9522</th>\n",
       "      <td>2</td>\n",
       "      <td>61</td>\n",
       "      <td>22</td>\n",
       "      <td>1</td>\n",
       "      <td>3</td>\n",
       "      <td>0</td>\n",
       "      <td>0</td>\n",
       "      <td>0</td>\n",
       "      <td>0</td>\n",
       "      <td>0</td>\n",
       "      <td>...</td>\n",
       "      <td>0</td>\n",
       "      <td>0</td>\n",
       "      <td>0</td>\n",
       "      <td>0</td>\n",
       "      <td>0</td>\n",
       "      <td>1</td>\n",
       "      <td>0</td>\n",
       "      <td>0</td>\n",
       "      <td>0</td>\n",
       "      <td>0</td>\n",
       "    </tr>\n",
       "    <tr>\n",
       "      <th>9523</th>\n",
       "      <td>5</td>\n",
       "      <td>62</td>\n",
       "      <td>73</td>\n",
       "      <td>2</td>\n",
       "      <td>3</td>\n",
       "      <td>0</td>\n",
       "      <td>0</td>\n",
       "      <td>0</td>\n",
       "      <td>0</td>\n",
       "      <td>0</td>\n",
       "      <td>...</td>\n",
       "      <td>0</td>\n",
       "      <td>0</td>\n",
       "      <td>0</td>\n",
       "      <td>0</td>\n",
       "      <td>0</td>\n",
       "      <td>0</td>\n",
       "      <td>1</td>\n",
       "      <td>0</td>\n",
       "      <td>0</td>\n",
       "      <td>0</td>\n",
       "    </tr>\n",
       "    <tr>\n",
       "      <th>9524</th>\n",
       "      <td>4</td>\n",
       "      <td>61</td>\n",
       "      <td>71</td>\n",
       "      <td>2</td>\n",
       "      <td>0</td>\n",
       "      <td>1</td>\n",
       "      <td>1</td>\n",
       "      <td>0</td>\n",
       "      <td>0</td>\n",
       "      <td>0</td>\n",
       "      <td>...</td>\n",
       "      <td>0</td>\n",
       "      <td>0</td>\n",
       "      <td>0</td>\n",
       "      <td>0</td>\n",
       "      <td>0</td>\n",
       "      <td>0</td>\n",
       "      <td>1</td>\n",
       "      <td>0</td>\n",
       "      <td>0</td>\n",
       "      <td>0</td>\n",
       "    </tr>\n",
       "    <tr>\n",
       "      <th>9525</th>\n",
       "      <td>5</td>\n",
       "      <td>66</td>\n",
       "      <td>159</td>\n",
       "      <td>2</td>\n",
       "      <td>3</td>\n",
       "      <td>0</td>\n",
       "      <td>0</td>\n",
       "      <td>0</td>\n",
       "      <td>0</td>\n",
       "      <td>0</td>\n",
       "      <td>...</td>\n",
       "      <td>0</td>\n",
       "      <td>0</td>\n",
       "      <td>0</td>\n",
       "      <td>0</td>\n",
       "      <td>0</td>\n",
       "      <td>1</td>\n",
       "      <td>0</td>\n",
       "      <td>0</td>\n",
       "      <td>0</td>\n",
       "      <td>0</td>\n",
       "    </tr>\n",
       "    <tr>\n",
       "      <th>9526</th>\n",
       "      <td>19</td>\n",
       "      <td>90</td>\n",
       "      <td>81</td>\n",
       "      <td>5</td>\n",
       "      <td>6</td>\n",
       "      <td>1</td>\n",
       "      <td>0</td>\n",
       "      <td>0</td>\n",
       "      <td>1</td>\n",
       "      <td>0</td>\n",
       "      <td>...</td>\n",
       "      <td>0</td>\n",
       "      <td>0</td>\n",
       "      <td>0</td>\n",
       "      <td>0</td>\n",
       "      <td>0</td>\n",
       "      <td>1</td>\n",
       "      <td>0</td>\n",
       "      <td>0</td>\n",
       "      <td>0</td>\n",
       "      <td>0</td>\n",
       "    </tr>\n",
       "  </tbody>\n",
       "</table>\n",
       "<p>9527 rows × 23 columns</p>\n",
       "</div>"
      ],
      "text/plain": [
       "      Format  Mean Score  Popularity  Favorites  Source  Action  Adventure  \\\n",
       "0          0          66        6050         69       0       0          0   \n",
       "1          0          72        6307         98       0       1          1   \n",
       "2          1          60        6176         48       0       0          0   \n",
       "3          0          61       43462        656       0       0          0   \n",
       "4          2          76       58959        797       1       0          0   \n",
       "...      ...         ...         ...        ...     ...     ...        ...   \n",
       "9522       2          61          22          1       3       0          0   \n",
       "9523       5          62          73          2       3       0          0   \n",
       "9524       4          61          71          2       0       1          1   \n",
       "9525       5          66         159          2       3       0          0   \n",
       "9526      19          90          81          5       6       1          0   \n",
       "\n",
       "      Comedy  Drama  Ecchi  ...  Mecha  Music  Mystery  Psychological  \\\n",
       "0          1      1      0  ...      0      0        0              0   \n",
       "1          0      1      0  ...      0      0        0              0   \n",
       "2          1      0      0  ...      1      0        0              0   \n",
       "3          0      1      0  ...      0      0        0              1   \n",
       "4          1      1      0  ...      0      0        0              1   \n",
       "...      ...    ...    ...  ...    ...    ...      ...            ...   \n",
       "9522       0      0      0  ...      0      0        0              0   \n",
       "9523       0      0      0  ...      0      0        0              0   \n",
       "9524       0      0      0  ...      0      0        0              0   \n",
       "9525       0      0      0  ...      0      0        0              0   \n",
       "9526       0      1      0  ...      0      0        0              0   \n",
       "\n",
       "      Romance  Sci-Fi  Slice of Life  Sports  Supernatural  Thriller  \n",
       "0           1       0              0       0             0         0  \n",
       "1           0       1              0       0             0         0  \n",
       "2           0       1              1       0             0         0  \n",
       "3           0       0              0       0             1         0  \n",
       "4           0       0              0       0             0         1  \n",
       "...       ...     ...            ...     ...           ...       ...  \n",
       "9522        0       1              0       0             0         0  \n",
       "9523        0       0              1       0             0         0  \n",
       "9524        0       0              1       0             0         0  \n",
       "9525        0       1              0       0             0         0  \n",
       "9526        0       1              0       0             0         0  \n",
       "\n",
       "[9527 rows x 23 columns]"
      ]
     },
     "execution_count": 29,
     "metadata": {},
     "output_type": "execute_result"
    }
   ],
   "source": [
    "df = pd.read_csv('./clean_anime_dataframe')\n",
    "df"
   ]
  },
  {
   "cell_type": "markdown",
   "id": "313412e3",
   "metadata": {},
   "source": [
    "<p>First ,lets split the data to training and testing segments based on the value we want to predict 'Mean Score'</p>"
   ]
  },
  {
   "cell_type": "code",
   "execution_count": 30,
   "id": "e5c2de79",
   "metadata": {},
   "outputs": [],
   "source": [
    "X_train, X_test, y_train, y_test = split_train_test(df)"
   ]
  },
  {
   "cell_type": "markdown",
   "id": "540e6245",
   "metadata": {},
   "source": [
    "<p>After splitting the data lets create a linear regression model and train it based on the entire dataframe without scaling or taking out unnecessary data</p>"
   ]
  },
  {
   "cell_type": "code",
   "execution_count": 31,
   "id": "5af0ff16",
   "metadata": {},
   "outputs": [
    {
     "data": {
      "text/plain": [
       "LinearRegression()"
      ]
     },
     "execution_count": 31,
     "metadata": {},
     "output_type": "execute_result"
    }
   ],
   "source": [
    "lr_model = LinearRegression()\n",
    "lr_model.fit(X_train, y_train)"
   ]
  },
  {
   "cell_type": "code",
   "execution_count": 32,
   "id": "85db4127",
   "metadata": {},
   "outputs": [],
   "source": [
    "predict_val = lr_model.predict(X_test)"
   ]
  },
  {
   "cell_type": "code",
   "execution_count": 61,
   "id": "3b46690f",
   "metadata": {},
   "outputs": [
    {
     "data": {
      "text/plain": [
       "0.4770840773618533"
      ]
     },
     "execution_count": 61,
     "metadata": {},
     "output_type": "execute_result"
    }
   ],
   "source": [
    "score = r2_score(y_test, predict_val)\n",
    "score"
   ]
  },
  {
   "cell_type": "markdown",
   "id": "e4f2caad",
   "metadata": {},
   "source": [
    "<p>As you can see, the first model was unsuccessful with an accuracy of 24%, lets try and improve it</p>"
   ]
  },
  {
   "cell_type": "code",
   "execution_count": 34,
   "id": "0f74e0bb",
   "metadata": {},
   "outputs": [],
   "source": [
    "df['Popularity'] = np.log(df['Popularity']) \n",
    "df['Favorites'] = np.log(df['Favorites'])"
   ]
  },
  {
   "cell_type": "code",
   "execution_count": 35,
   "id": "50de69b4",
   "metadata": {},
   "outputs": [],
   "source": [
    "X_train, X_test, y_train, y_test = split_train_test(df)"
   ]
  },
  {
   "cell_type": "code",
   "execution_count": 36,
   "id": "79425989",
   "metadata": {},
   "outputs": [
    {
     "data": {
      "text/plain": [
       "LinearRegression()"
      ]
     },
     "execution_count": 36,
     "metadata": {},
     "output_type": "execute_result"
    }
   ],
   "source": [
    "lr_model = LinearRegression()\n",
    "lr_model.fit(X_train, y_train)"
   ]
  },
  {
   "cell_type": "code",
   "execution_count": 37,
   "id": "c9986fe9",
   "metadata": {},
   "outputs": [],
   "source": [
    "predict_val = lr_model.predict(X_test)"
   ]
  },
  {
   "cell_type": "code",
   "execution_count": 38,
   "id": "6eee7ac9",
   "metadata": {},
   "outputs": [
    {
     "data": {
      "text/plain": [
       "0.4770840773618533"
      ]
     },
     "execution_count": 38,
     "metadata": {},
     "output_type": "execute_result"
    }
   ],
   "source": [
    "score = r2_score(y_test, predict_val)\n",
    "score"
   ]
  },
  {
   "cell_type": "markdown",
   "id": "2f6abb0d",
   "metadata": {},
   "source": [
    "<p>As you can see, using lan on the most influential columns regarding the target of the model (Mean score) helped raise the model's accuracy from 24% to 47%</p>"
   ]
  },
  {
   "cell_type": "markdown",
   "id": "7385ee7d",
   "metadata": {},
   "source": [
    "Although we've improved the model, I think this is as far as regular Linear regression can go in the case of this dataset.\n",
    "\n",
    "Lets try a few more models."
   ]
  },
  {
   "cell_type": "markdown",
   "id": "613133f7",
   "metadata": {},
   "source": [
    "First of, lets try a different variation to the Linear Regression, the Lasso Regression."
   ]
  },
  {
   "cell_type": "code",
   "execution_count": 39,
   "id": "6002d3eb",
   "metadata": {},
   "outputs": [],
   "source": [
    "lass_m = Lasso(alpha = 1.0)"
   ]
  },
  {
   "cell_type": "code",
   "execution_count": 40,
   "id": "afed363d",
   "metadata": {},
   "outputs": [
    {
     "data": {
      "text/plain": [
       "Lasso()"
      ]
     },
     "execution_count": 40,
     "metadata": {},
     "output_type": "execute_result"
    }
   ],
   "source": [
    "lass_m.fit(X_train, y_train)"
   ]
  },
  {
   "cell_type": "code",
   "execution_count": 41,
   "id": "4f4684e1",
   "metadata": {},
   "outputs": [],
   "source": [
    "predicted_vals = lass_m.predict(X_test)"
   ]
  },
  {
   "cell_type": "code",
   "execution_count": 42,
   "id": "4e15feb5",
   "metadata": {},
   "outputs": [
    {
     "data": {
      "text/plain": [
       "0.4324836331444315"
      ]
     },
     "execution_count": 42,
     "metadata": {},
     "output_type": "execute_result"
    }
   ],
   "source": [
    "score = r2_score(y_test, predicted_vals)\n",
    "score"
   ]
  },
  {
   "cell_type": "markdown",
   "id": "cf34be55",
   "metadata": {},
   "source": [
    "On first attempt the Lasso regression yielded worse result than the Linear regression, but we can still tweek it a little. contrary to Linear regression, on the Lasso we can change a hyperparameter to yield better results."
   ]
  },
  {
   "cell_type": "code",
   "execution_count": 43,
   "id": "40e4aab1",
   "metadata": {},
   "outputs": [],
   "source": [
    "cv = RepeatedKFold(n_splits=10, n_repeats=3, random_state=1)"
   ]
  },
  {
   "cell_type": "code",
   "execution_count": 44,
   "id": "060927f0",
   "metadata": {},
   "outputs": [],
   "source": [
    "grid = dict()\n",
    "grid['alpha'] = arange(0, 1, 0.01)"
   ]
  },
  {
   "cell_type": "code",
   "execution_count": 45,
   "id": "22022698",
   "metadata": {},
   "outputs": [],
   "source": [
    "search = GridSearchCV(lass_m, grid, scoring='neg_mean_absolute_error', cv=cv, n_jobs=-1)"
   ]
  },
  {
   "cell_type": "code",
   "execution_count": 46,
   "id": "9995a074",
   "metadata": {},
   "outputs": [],
   "source": [
    "results = search.fit(X_train, y_train)"
   ]
  },
  {
   "cell_type": "code",
   "execution_count": 47,
   "id": "d26c3a2d",
   "metadata": {},
   "outputs": [
    {
     "name": "stdout",
     "output_type": "stream",
     "text": [
      "MAE: -5.530\n",
      "Config: {'alpha': 0.01}\n"
     ]
    }
   ],
   "source": [
    "print('MAE: %.3f' % results.best_score_)\n",
    "print('Config: %s' % results.best_params_)"
   ]
  },
  {
   "cell_type": "markdown",
   "id": "529da4b5",
   "metadata": {},
   "source": [
    "The results from the GridSearchCV shows that the best hyperparameter is 0.01 and that the mean absolute error (MAE) is -5.53, which is the average offset from the predicted value, not too shabby."
   ]
  },
  {
   "cell_type": "code",
   "execution_count": 48,
   "id": "a41ea943",
   "metadata": {},
   "outputs": [],
   "source": [
    "lass_m = Lasso(alpha = 0.01)"
   ]
  },
  {
   "cell_type": "code",
   "execution_count": 49,
   "id": "a769fe12",
   "metadata": {},
   "outputs": [
    {
     "data": {
      "text/plain": [
       "Lasso(alpha=0.01)"
      ]
     },
     "execution_count": 49,
     "metadata": {},
     "output_type": "execute_result"
    }
   ],
   "source": [
    "lass_m.fit(X_train, y_train)"
   ]
  },
  {
   "cell_type": "code",
   "execution_count": 50,
   "id": "75e485dd",
   "metadata": {},
   "outputs": [],
   "source": [
    "predicted_vals = lass_m.predict(X_test)"
   ]
  },
  {
   "cell_type": "code",
   "execution_count": 51,
   "id": "7fc45f8a",
   "metadata": {},
   "outputs": [
    {
     "data": {
      "text/plain": [
       "0.4768784745287775"
      ]
     },
     "execution_count": 51,
     "metadata": {},
     "output_type": "execute_result"
    }
   ],
   "source": [
    "score = r2_score(y_test, predicted_vals)\n",
    "score"
   ]
  },
  {
   "cell_type": "markdown",
   "id": "f1ded40a",
   "metadata": {},
   "source": [
    "The result is more disappointing than expected, the Lasso with the most optimal hyperparameter gave out slightly worse results than the Linear regression with an accuracy of 47.6% compared to the 47.7% (neglible but disappointing still)."
   ]
  },
  {
   "cell_type": "markdown",
   "id": "d9ca82f8",
   "metadata": {},
   "source": [
    "Although our previous models disappointed, I still want to try one last model that showed great potential when it comes to predicting continuous variables such as our Mean Score, the CatBoostRegressor."
   ]
  },
  {
   "cell_type": "markdown",
   "id": "ec79fa67",
   "metadata": {},
   "source": [
    "CatBoostRegressor is an Ensemble model, created through the combinations of other models.\n",
    "It works similar to a Regression/Decision tree, it has depth and number of iterations as part of its hyperparameters."
   ]
  },
  {
   "cell_type": "markdown",
   "id": "7ebec874",
   "metadata": {},
   "source": [
    "Lets first set parameters for the CatBoostRegressor to iterate over and see the best result through GridSearchCv"
   ]
  },
  {
   "cell_type": "code",
   "execution_count": 62,
   "id": "f4d42841",
   "metadata": {},
   "outputs": [],
   "source": [
    "params = {\n",
    "        'depth': [6, 8, 10],\n",
    "        'learning_rate': [0.01, 0.05, 0.1],\n",
    "        'iterations': [100]\n",
    "    }"
   ]
  },
  {
   "cell_type": "code",
   "execution_count": 63,
   "id": "1a80b027",
   "metadata": {},
   "outputs": [],
   "source": [
    "model = CatBoostRegressor"
   ]
  },
  {
   "cell_type": "code",
   "execution_count": 66,
   "id": "41b84136",
   "metadata": {},
   "outputs": [
    {
     "name": "stdout",
     "output_type": "stream",
     "text": [
      "Fitting 5 folds for each of 9 candidates, totalling 45 fits\n",
      "Best hyperparams : {'iterations': 100, 'learning_rate': 0.1, 'depth': 10, 'loss_function': 'RMSE', 'verbose': False, 'one_hot_max_size': 255}\n",
      "model: <class 'catboost.core.CatBoostRegressor'>, r2: 0.5958694368878392, best_r2: 0.5851129750207251\n"
     ]
    }
   ],
   "source": [
    "r2, r2_best = run_cat_boost_model(model, df, params)\n",
    "print(f\"model: {model}, r2: {r2}, best_r2: {r2_best}\")"
   ]
  },
  {
   "cell_type": "markdown",
   "id": "039c708c",
   "metadata": {},
   "source": [
    "As seen in the results, the CatBoost model yielded the best score yet at 59.5% accuracy, this is not an ideal number although much better than previous models.\n",
    "\n",
    "This result is take from the default arguments of the model and not from the best results that the GridSearchCV gave, thus concluding that in this database and in these parameters the default arguments prevail in terms of score."
   ]
  },
  {
   "cell_type": "markdown",
   "id": "4b00139c",
   "metadata": {},
   "source": [
    "In conclusion, out of the 3 models we tried to train using the dataset, the first two (Linear Regression and Lasso Regression) yielded the same result of 47% accuracy.\n",
    "The last model we used, CatBoostRegressor showed better results at around 59% accuracy.\n",
    "\n",
    "All in all, it seems the data isn't very predictable when it comes to the Mean Score of an anime, I guess we'll have to settle with a model that yields a result of 59% accuracy."
   ]
  }
 ],
 "metadata": {
  "kernelspec": {
   "display_name": "Python 3 (ipykernel)",
   "language": "python",
   "name": "python3"
  },
  "language_info": {
   "codemirror_mode": {
    "name": "ipython",
    "version": 3
   },
   "file_extension": ".py",
   "mimetype": "text/x-python",
   "name": "python",
   "nbconvert_exporter": "python",
   "pygments_lexer": "ipython3",
   "version": "3.8.8"
  }
 },
 "nbformat": 4,
 "nbformat_minor": 5
}
