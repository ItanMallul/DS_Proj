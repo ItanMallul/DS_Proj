{
 "cells": [
  {
   "cell_type": "markdown",
   "id": "91a4afc9",
   "metadata": {},
   "source": [
    "<h2>Machine Learning</h2>\n",
    "<br>\n",
    "<p>Model learning and predicting</p>"
   ]
  },
  {
   "cell_type": "code",
   "execution_count": null,
   "id": "b5d19f42",
   "metadata": {},
   "outputs": [],
   "source": [
    "#pip install catboost"
   ]
  },
  {
   "cell_type": "code",
   "execution_count": 1,
   "id": "833be3f2",
   "metadata": {},
   "outputs": [],
   "source": [
    "import numpy as np\n",
    "from numpy import arange\n",
    "from numpy import absolute\n",
    "from numpy import mean\n",
    "from numpy import std\n",
    "import pandas as pd\n",
    "#-------sklearn etc:\n",
    "import sklearn\n",
    "from sklearn import linear_model\n",
    "from sklearn.metrics import r2_score\n",
    "from sklearn.preprocessing import StandardScaler, MinMaxScaler,LabelEncoder ## might not scale, less effective in regression and tree based algorithms\n",
    "from sklearn.linear_model import LinearRegression\n",
    "from sklearn.model_selection import train_test_split\n",
    "from sklearn.model_selection import GridSearchCV\n",
    "from sklearn.model_selection import RepeatedKFold\n",
    "from sklearn.model_selection import cross_val_score\n",
    "from sklearn.linear_model import Lasso\n",
    "#-------metrics:\n",
    "from sklearn import metrics\n",
    "from sklearn.metrics import accuracy_score, precision_score, recall_score, f1_score, confusion_matrix\n",
    "#-------plots:\n",
    "from matplotlib import pyplot as plt\n",
    "#-------Extra models:\n",
    "from catboost import CatBoostRegressor"
   ]
  },
  {
   "cell_type": "markdown",
   "id": "c39771a5",
   "metadata": {},
   "source": [
    "<h4>Functions:</h4>"
   ]
  },
  {
   "cell_type": "code",
   "execution_count": 2,
   "id": "90bc640c",
   "metadata": {},
   "outputs": [],
   "source": [
    "def split_train_test(df):\n",
    "    y = df['Mean Score']\n",
    "    X = df.drop('Mean Score', axis = 1)\n",
    "    return train_test_split(X, y, test_size=0.33, random_state=42)"
   ]
  },
  {
   "cell_type": "code",
   "execution_count": 3,
   "id": "53220fed",
   "metadata": {},
   "outputs": [],
   "source": [
    "def r_adjust(y, y_pred, **kwargs):\n",
    "    res = r2_score(y, y_pred)\n",
    "    Adj_r2 = 1 - (1 - res * (len(y) - 1) / (len(y) - kwargs['X'].shape[1] - 1))\n",
    "    return Adj_r2"
   ]
  },
  {
   "cell_type": "code",
   "execution_count": 4,
   "id": "5ef247b7",
   "metadata": {},
   "outputs": [],
   "source": [
    "def run_model(model_class, df, params):\n",
    "    model = model_class(verbose=False, one_hot_max_size=255) if model_class == CatBoostRegressor else model_class()\n",
    "    X_train, X_test, y_train, y_test = split_train_test(df)\n",
    "    grid_search = GridSearchCV(estimator=model, param_grid=params,\n",
    "                               cv=5, n_jobs=3, verbose=1,\n",
    "                               scoring=make_scorer(r_adjust, greater_is_better=True, X=X_train))\n",
    "    model.fit(X_train, y_train)\n",
    "    grid_search.fit(X_train, y_train)\n",
    "    best_model = grid_search.best_estimator_\n",
    "    y_predict = model.predict(X_test)\n",
    "    y_predict_best = best_model.predict(X_test)\n",
    "    try:\n",
    "        print(f\"Best hyperparams : {best_model.__dict__['_init_params']}\")\n",
    "    except:\n",
    "        print(f\"Best hyperparams: {best_model}\")\n",
    "    return r2_score(y_test, y_predict), r2_score(y_test, y_predict_best)"
   ]
  },
  {
   "cell_type": "markdown",
   "id": "da3df07d",
   "metadata": {},
   "source": [
    "<h4>Main Body:</h4>"
   ]
  },
  {
   "cell_type": "code",
   "execution_count": 5,
   "id": "fbb5a1c3",
   "metadata": {},
   "outputs": [
    {
     "data": {
      "text/html": [
       "<div>\n",
       "<style scoped>\n",
       "    .dataframe tbody tr th:only-of-type {\n",
       "        vertical-align: middle;\n",
       "    }\n",
       "\n",
       "    .dataframe tbody tr th {\n",
       "        vertical-align: top;\n",
       "    }\n",
       "\n",
       "    .dataframe thead th {\n",
       "        text-align: right;\n",
       "    }\n",
       "</style>\n",
       "<table border=\"1\" class=\"dataframe\">\n",
       "  <thead>\n",
       "    <tr style=\"text-align: right;\">\n",
       "      <th></th>\n",
       "      <th>Format</th>\n",
       "      <th>Mean Score</th>\n",
       "      <th>Popularity</th>\n",
       "      <th>Favorites</th>\n",
       "      <th>Source</th>\n",
       "      <th>Action</th>\n",
       "      <th>Adventure</th>\n",
       "      <th>Comedy</th>\n",
       "      <th>Drama</th>\n",
       "      <th>Ecchi</th>\n",
       "      <th>...</th>\n",
       "      <th>Mecha</th>\n",
       "      <th>Music</th>\n",
       "      <th>Mystery</th>\n",
       "      <th>Psychological</th>\n",
       "      <th>Romance</th>\n",
       "      <th>Sci-Fi</th>\n",
       "      <th>Slice of Life</th>\n",
       "      <th>Sports</th>\n",
       "      <th>Supernatural</th>\n",
       "      <th>Thriller</th>\n",
       "    </tr>\n",
       "  </thead>\n",
       "  <tbody>\n",
       "    <tr>\n",
       "      <th>0</th>\n",
       "      <td>0</td>\n",
       "      <td>66</td>\n",
       "      <td>6050</td>\n",
       "      <td>69</td>\n",
       "      <td>0</td>\n",
       "      <td>0</td>\n",
       "      <td>0</td>\n",
       "      <td>1</td>\n",
       "      <td>1</td>\n",
       "      <td>0</td>\n",
       "      <td>...</td>\n",
       "      <td>0</td>\n",
       "      <td>0</td>\n",
       "      <td>0</td>\n",
       "      <td>0</td>\n",
       "      <td>1</td>\n",
       "      <td>0</td>\n",
       "      <td>0</td>\n",
       "      <td>0</td>\n",
       "      <td>0</td>\n",
       "      <td>0</td>\n",
       "    </tr>\n",
       "    <tr>\n",
       "      <th>1</th>\n",
       "      <td>0</td>\n",
       "      <td>72</td>\n",
       "      <td>6307</td>\n",
       "      <td>98</td>\n",
       "      <td>0</td>\n",
       "      <td>1</td>\n",
       "      <td>1</td>\n",
       "      <td>0</td>\n",
       "      <td>1</td>\n",
       "      <td>0</td>\n",
       "      <td>...</td>\n",
       "      <td>0</td>\n",
       "      <td>0</td>\n",
       "      <td>0</td>\n",
       "      <td>0</td>\n",
       "      <td>0</td>\n",
       "      <td>1</td>\n",
       "      <td>0</td>\n",
       "      <td>0</td>\n",
       "      <td>0</td>\n",
       "      <td>0</td>\n",
       "    </tr>\n",
       "    <tr>\n",
       "      <th>2</th>\n",
       "      <td>1</td>\n",
       "      <td>60</td>\n",
       "      <td>6176</td>\n",
       "      <td>48</td>\n",
       "      <td>0</td>\n",
       "      <td>0</td>\n",
       "      <td>0</td>\n",
       "      <td>1</td>\n",
       "      <td>0</td>\n",
       "      <td>0</td>\n",
       "      <td>...</td>\n",
       "      <td>1</td>\n",
       "      <td>0</td>\n",
       "      <td>0</td>\n",
       "      <td>0</td>\n",
       "      <td>0</td>\n",
       "      <td>1</td>\n",
       "      <td>1</td>\n",
       "      <td>0</td>\n",
       "      <td>0</td>\n",
       "      <td>0</td>\n",
       "    </tr>\n",
       "    <tr>\n",
       "      <th>3</th>\n",
       "      <td>0</td>\n",
       "      <td>61</td>\n",
       "      <td>43462</td>\n",
       "      <td>656</td>\n",
       "      <td>0</td>\n",
       "      <td>0</td>\n",
       "      <td>0</td>\n",
       "      <td>0</td>\n",
       "      <td>1</td>\n",
       "      <td>0</td>\n",
       "      <td>...</td>\n",
       "      <td>0</td>\n",
       "      <td>0</td>\n",
       "      <td>0</td>\n",
       "      <td>1</td>\n",
       "      <td>0</td>\n",
       "      <td>0</td>\n",
       "      <td>0</td>\n",
       "      <td>0</td>\n",
       "      <td>1</td>\n",
       "      <td>0</td>\n",
       "    </tr>\n",
       "    <tr>\n",
       "      <th>4</th>\n",
       "      <td>2</td>\n",
       "      <td>76</td>\n",
       "      <td>58959</td>\n",
       "      <td>797</td>\n",
       "      <td>1</td>\n",
       "      <td>0</td>\n",
       "      <td>0</td>\n",
       "      <td>1</td>\n",
       "      <td>1</td>\n",
       "      <td>0</td>\n",
       "      <td>...</td>\n",
       "      <td>0</td>\n",
       "      <td>0</td>\n",
       "      <td>0</td>\n",
       "      <td>1</td>\n",
       "      <td>0</td>\n",
       "      <td>0</td>\n",
       "      <td>0</td>\n",
       "      <td>0</td>\n",
       "      <td>0</td>\n",
       "      <td>1</td>\n",
       "    </tr>\n",
       "    <tr>\n",
       "      <th>...</th>\n",
       "      <td>...</td>\n",
       "      <td>...</td>\n",
       "      <td>...</td>\n",
       "      <td>...</td>\n",
       "      <td>...</td>\n",
       "      <td>...</td>\n",
       "      <td>...</td>\n",
       "      <td>...</td>\n",
       "      <td>...</td>\n",
       "      <td>...</td>\n",
       "      <td>...</td>\n",
       "      <td>...</td>\n",
       "      <td>...</td>\n",
       "      <td>...</td>\n",
       "      <td>...</td>\n",
       "      <td>...</td>\n",
       "      <td>...</td>\n",
       "      <td>...</td>\n",
       "      <td>...</td>\n",
       "      <td>...</td>\n",
       "      <td>...</td>\n",
       "    </tr>\n",
       "    <tr>\n",
       "      <th>9522</th>\n",
       "      <td>2</td>\n",
       "      <td>61</td>\n",
       "      <td>22</td>\n",
       "      <td>1</td>\n",
       "      <td>3</td>\n",
       "      <td>0</td>\n",
       "      <td>0</td>\n",
       "      <td>0</td>\n",
       "      <td>0</td>\n",
       "      <td>0</td>\n",
       "      <td>...</td>\n",
       "      <td>0</td>\n",
       "      <td>0</td>\n",
       "      <td>0</td>\n",
       "      <td>0</td>\n",
       "      <td>0</td>\n",
       "      <td>1</td>\n",
       "      <td>0</td>\n",
       "      <td>0</td>\n",
       "      <td>0</td>\n",
       "      <td>0</td>\n",
       "    </tr>\n",
       "    <tr>\n",
       "      <th>9523</th>\n",
       "      <td>5</td>\n",
       "      <td>62</td>\n",
       "      <td>73</td>\n",
       "      <td>2</td>\n",
       "      <td>3</td>\n",
       "      <td>0</td>\n",
       "      <td>0</td>\n",
       "      <td>0</td>\n",
       "      <td>0</td>\n",
       "      <td>0</td>\n",
       "      <td>...</td>\n",
       "      <td>0</td>\n",
       "      <td>0</td>\n",
       "      <td>0</td>\n",
       "      <td>0</td>\n",
       "      <td>0</td>\n",
       "      <td>0</td>\n",
       "      <td>1</td>\n",
       "      <td>0</td>\n",
       "      <td>0</td>\n",
       "      <td>0</td>\n",
       "    </tr>\n",
       "    <tr>\n",
       "      <th>9524</th>\n",
       "      <td>4</td>\n",
       "      <td>61</td>\n",
       "      <td>71</td>\n",
       "      <td>2</td>\n",
       "      <td>0</td>\n",
       "      <td>1</td>\n",
       "      <td>1</td>\n",
       "      <td>0</td>\n",
       "      <td>0</td>\n",
       "      <td>0</td>\n",
       "      <td>...</td>\n",
       "      <td>0</td>\n",
       "      <td>0</td>\n",
       "      <td>0</td>\n",
       "      <td>0</td>\n",
       "      <td>0</td>\n",
       "      <td>0</td>\n",
       "      <td>1</td>\n",
       "      <td>0</td>\n",
       "      <td>0</td>\n",
       "      <td>0</td>\n",
       "    </tr>\n",
       "    <tr>\n",
       "      <th>9525</th>\n",
       "      <td>5</td>\n",
       "      <td>66</td>\n",
       "      <td>159</td>\n",
       "      <td>2</td>\n",
       "      <td>3</td>\n",
       "      <td>0</td>\n",
       "      <td>0</td>\n",
       "      <td>0</td>\n",
       "      <td>0</td>\n",
       "      <td>0</td>\n",
       "      <td>...</td>\n",
       "      <td>0</td>\n",
       "      <td>0</td>\n",
       "      <td>0</td>\n",
       "      <td>0</td>\n",
       "      <td>0</td>\n",
       "      <td>1</td>\n",
       "      <td>0</td>\n",
       "      <td>0</td>\n",
       "      <td>0</td>\n",
       "      <td>0</td>\n",
       "    </tr>\n",
       "    <tr>\n",
       "      <th>9526</th>\n",
       "      <td>19</td>\n",
       "      <td>90</td>\n",
       "      <td>81</td>\n",
       "      <td>5</td>\n",
       "      <td>6</td>\n",
       "      <td>1</td>\n",
       "      <td>0</td>\n",
       "      <td>0</td>\n",
       "      <td>1</td>\n",
       "      <td>0</td>\n",
       "      <td>...</td>\n",
       "      <td>0</td>\n",
       "      <td>0</td>\n",
       "      <td>0</td>\n",
       "      <td>0</td>\n",
       "      <td>0</td>\n",
       "      <td>1</td>\n",
       "      <td>0</td>\n",
       "      <td>0</td>\n",
       "      <td>0</td>\n",
       "      <td>0</td>\n",
       "    </tr>\n",
       "  </tbody>\n",
       "</table>\n",
       "<p>9527 rows × 23 columns</p>\n",
       "</div>"
      ],
      "text/plain": [
       "      Format  Mean Score  Popularity  Favorites  Source  Action  Adventure  \\\n",
       "0          0          66        6050         69       0       0          0   \n",
       "1          0          72        6307         98       0       1          1   \n",
       "2          1          60        6176         48       0       0          0   \n",
       "3          0          61       43462        656       0       0          0   \n",
       "4          2          76       58959        797       1       0          0   \n",
       "...      ...         ...         ...        ...     ...     ...        ...   \n",
       "9522       2          61          22          1       3       0          0   \n",
       "9523       5          62          73          2       3       0          0   \n",
       "9524       4          61          71          2       0       1          1   \n",
       "9525       5          66         159          2       3       0          0   \n",
       "9526      19          90          81          5       6       1          0   \n",
       "\n",
       "      Comedy  Drama  Ecchi  ...  Mecha  Music  Mystery  Psychological  \\\n",
       "0          1      1      0  ...      0      0        0              0   \n",
       "1          0      1      0  ...      0      0        0              0   \n",
       "2          1      0      0  ...      1      0        0              0   \n",
       "3          0      1      0  ...      0      0        0              1   \n",
       "4          1      1      0  ...      0      0        0              1   \n",
       "...      ...    ...    ...  ...    ...    ...      ...            ...   \n",
       "9522       0      0      0  ...      0      0        0              0   \n",
       "9523       0      0      0  ...      0      0        0              0   \n",
       "9524       0      0      0  ...      0      0        0              0   \n",
       "9525       0      0      0  ...      0      0        0              0   \n",
       "9526       0      1      0  ...      0      0        0              0   \n",
       "\n",
       "      Romance  Sci-Fi  Slice of Life  Sports  Supernatural  Thriller  \n",
       "0           1       0              0       0             0         0  \n",
       "1           0       1              0       0             0         0  \n",
       "2           0       1              1       0             0         0  \n",
       "3           0       0              0       0             1         0  \n",
       "4           0       0              0       0             0         1  \n",
       "...       ...     ...            ...     ...           ...       ...  \n",
       "9522        0       1              0       0             0         0  \n",
       "9523        0       0              1       0             0         0  \n",
       "9524        0       0              1       0             0         0  \n",
       "9525        0       1              0       0             0         0  \n",
       "9526        0       1              0       0             0         0  \n",
       "\n",
       "[9527 rows x 23 columns]"
      ]
     },
     "execution_count": 5,
     "metadata": {},
     "output_type": "execute_result"
    }
   ],
   "source": [
    "df = pd.read_csv('./clean_anime_dataframe')\n",
    "df"
   ]
  },
  {
   "cell_type": "markdown",
   "id": "313412e3",
   "metadata": {},
   "source": [
    "<p>First ,lets split the data to training and testing segments based on the value we want to predict 'Mean Score'</p>"
   ]
  },
  {
   "cell_type": "code",
   "execution_count": 6,
   "id": "e5c2de79",
   "metadata": {},
   "outputs": [],
   "source": [
    "X_train, X_test, y_train, y_test = split_train_test(df)"
   ]
  },
  {
   "cell_type": "markdown",
   "id": "540e6245",
   "metadata": {},
   "source": [
    "<p>After splitting the data lets create a linear regression model and train it based on the entire dataframe without scaling or taking out unnecessary data</p>"
   ]
  },
  {
   "cell_type": "code",
   "execution_count": 7,
   "id": "5af0ff16",
   "metadata": {},
   "outputs": [
    {
     "data": {
      "text/plain": [
       "LinearRegression()"
      ]
     },
     "execution_count": 7,
     "metadata": {},
     "output_type": "execute_result"
    }
   ],
   "source": [
    "lr_model = LinearRegression()\n",
    "lr_model.fit(X_train, y_train)"
   ]
  },
  {
   "cell_type": "code",
   "execution_count": 8,
   "id": "85db4127",
   "metadata": {},
   "outputs": [],
   "source": [
    "predict_val = lr_model.predict(X_test)"
   ]
  },
  {
   "cell_type": "code",
   "execution_count": 12,
   "id": "3b46690f",
   "metadata": {},
   "outputs": [
    {
     "ename": "AttributeError",
     "evalue": "'DataFrame' object has no attribute 'tolist'",
     "output_type": "error",
     "traceback": [
      "\u001b[1;31m---------------------------------------------------------------------------\u001b[0m",
      "\u001b[1;31mAttributeError\u001b[0m                            Traceback (most recent call last)",
      "\u001b[1;32mC:\\Users\\ITANMA~1\\AppData\\Local\\Temp/ipykernel_9596/1455884755.py\u001b[0m in \u001b[0;36m<module>\u001b[1;34m\u001b[0m\n\u001b[1;32m----> 1\u001b[1;33m \u001b[0mscore\u001b[0m \u001b[1;33m=\u001b[0m \u001b[0mr_adjust\u001b[0m\u001b[1;33m(\u001b[0m\u001b[0my_test\u001b[0m\u001b[1;33m,\u001b[0m \u001b[0mpredict_val\u001b[0m\u001b[1;33m,\u001b[0m \u001b[0mX_test\u001b[0m\u001b[1;33m.\u001b[0m\u001b[0mtolist\u001b[0m\u001b[1;33m(\u001b[0m\u001b[1;33m)\u001b[0m\u001b[1;33m)\u001b[0m\u001b[1;33m\u001b[0m\u001b[1;33m\u001b[0m\u001b[0m\n\u001b[0m\u001b[0;32m      2\u001b[0m \u001b[0mscore\u001b[0m\u001b[1;33m\u001b[0m\u001b[1;33m\u001b[0m\u001b[0m\n",
      "\u001b[1;32m~\\anaconda3\\lib\\site-packages\\pandas\\core\\generic.py\u001b[0m in \u001b[0;36m__getattr__\u001b[1;34m(self, name)\u001b[0m\n\u001b[0;32m   5485\u001b[0m         ):\n\u001b[0;32m   5486\u001b[0m             \u001b[1;32mreturn\u001b[0m \u001b[0mself\u001b[0m\u001b[1;33m[\u001b[0m\u001b[0mname\u001b[0m\u001b[1;33m]\u001b[0m\u001b[1;33m\u001b[0m\u001b[1;33m\u001b[0m\u001b[0m\n\u001b[1;32m-> 5487\u001b[1;33m         \u001b[1;32mreturn\u001b[0m \u001b[0mobject\u001b[0m\u001b[1;33m.\u001b[0m\u001b[0m__getattribute__\u001b[0m\u001b[1;33m(\u001b[0m\u001b[0mself\u001b[0m\u001b[1;33m,\u001b[0m \u001b[0mname\u001b[0m\u001b[1;33m)\u001b[0m\u001b[1;33m\u001b[0m\u001b[1;33m\u001b[0m\u001b[0m\n\u001b[0m\u001b[0;32m   5488\u001b[0m \u001b[1;33m\u001b[0m\u001b[0m\n\u001b[0;32m   5489\u001b[0m     \u001b[1;32mdef\u001b[0m \u001b[0m__setattr__\u001b[0m\u001b[1;33m(\u001b[0m\u001b[0mself\u001b[0m\u001b[1;33m,\u001b[0m \u001b[0mname\u001b[0m\u001b[1;33m:\u001b[0m \u001b[0mstr\u001b[0m\u001b[1;33m,\u001b[0m \u001b[0mvalue\u001b[0m\u001b[1;33m)\u001b[0m \u001b[1;33m->\u001b[0m \u001b[1;32mNone\u001b[0m\u001b[1;33m:\u001b[0m\u001b[1;33m\u001b[0m\u001b[1;33m\u001b[0m\u001b[0m\n",
      "\u001b[1;31mAttributeError\u001b[0m: 'DataFrame' object has no attribute 'tolist'"
     ]
    }
   ],
   "source": [
    "score = r_adjust(y_test, predict_val, X_test.tolist())\n",
    "score"
   ]
  },
  {
   "cell_type": "markdown",
   "id": "e4f2caad",
   "metadata": {},
   "source": [
    "<p>As you can see, the first model was unsuccessful with an accuracy of 24%, lets try and improve it</p>"
   ]
  },
  {
   "cell_type": "code",
   "execution_count": null,
   "id": "0f74e0bb",
   "metadata": {},
   "outputs": [],
   "source": [
    "df['Popularity'] = np.log(df['Popularity']) \n",
    "df['Favorites'] = np.log(df['Favorites'])"
   ]
  },
  {
   "cell_type": "code",
   "execution_count": null,
   "id": "50de69b4",
   "metadata": {},
   "outputs": [],
   "source": [
    "y = df['Mean Score']\n",
    "X = df.drop('Mean Score', axis = 1)\n",
    "X_train, X_test, y_train, y_test = train_test_split(X,y, random_state=42, test_size= 0.33)"
   ]
  },
  {
   "cell_type": "code",
   "execution_count": null,
   "id": "79425989",
   "metadata": {},
   "outputs": [],
   "source": [
    "lr_model = LinearRegression()\n",
    "lr_model.fit(X_train, y_train)"
   ]
  },
  {
   "cell_type": "code",
   "execution_count": null,
   "id": "8b074272",
   "metadata": {},
   "outputs": [],
   "source": [
    "predict_val = lr_model.predict(X_test)"
   ]
  },
  {
   "cell_type": "code",
   "execution_count": null,
   "id": "64345409",
   "metadata": {},
   "outputs": [],
   "source": [
    "score = r2_score(y_test, predict_val)\n",
    "score"
   ]
  },
  {
   "cell_type": "markdown",
   "id": "23a232fa",
   "metadata": {},
   "source": [
    "<p>As you can see, using lan on the most influential columns regarding the target of the model (Mean score) helped raise the model's accuracy from 24% to 47%</p>"
   ]
  },
  {
   "cell_type": "markdown",
   "id": "fe49a032",
   "metadata": {},
   "source": [
    "Although we've improved the model, I think this is as far as regular Linear regression can go in the case of this dataset.\n",
    "\n",
    "Lets try a few more models."
   ]
  },
  {
   "cell_type": "markdown",
   "id": "03143c1c",
   "metadata": {},
   "source": [
    "First of, lets try a different variation to the Linear Regression, the Lasso Regression."
   ]
  },
  {
   "cell_type": "code",
   "execution_count": null,
   "id": "b4766a1d",
   "metadata": {},
   "outputs": [],
   "source": [
    "lass_m = Lasso(alpha = 1.0)"
   ]
  },
  {
   "cell_type": "code",
   "execution_count": null,
   "id": "9b21f138",
   "metadata": {},
   "outputs": [],
   "source": [
    "lass_m.fit(X_train, y_train)"
   ]
  },
  {
   "cell_type": "code",
   "execution_count": null,
   "id": "adebd5bf",
   "metadata": {},
   "outputs": [],
   "source": [
    "predicted_vals = lass_m.predict(X_test)"
   ]
  },
  {
   "cell_type": "code",
   "execution_count": null,
   "id": "8fe735da",
   "metadata": {},
   "outputs": [],
   "source": [
    "score = r2_score(y_test, predicted_vals)\n",
    "score"
   ]
  },
  {
   "cell_type": "markdown",
   "id": "f2bfc4ac",
   "metadata": {},
   "source": [
    "On first attempt the Lasso regression yielded worse result than the Linear regression, but we can still tweek it a little. contrary to Linear regression, on the Lasso we can change a hyperparameter to yield better results."
   ]
  },
  {
   "cell_type": "code",
   "execution_count": null,
   "id": "4156d0c9",
   "metadata": {},
   "outputs": [],
   "source": [
    "cv = RepeatedKFold(n_splits=10, n_repeats=3, random_state=1)"
   ]
  },
  {
   "cell_type": "code",
   "execution_count": null,
   "id": "c51a2283",
   "metadata": {},
   "outputs": [],
   "source": [
    "grid = dict()\n",
    "grid['alpha'] = arange(0, 1, 0.01)"
   ]
  },
  {
   "cell_type": "code",
   "execution_count": null,
   "id": "1e7b187f",
   "metadata": {},
   "outputs": [],
   "source": [
    "search = GridSearchCV(lass_m, grid, scoring='neg_mean_absolute_error', cv=cv, n_jobs=-1)"
   ]
  },
  {
   "cell_type": "code",
   "execution_count": null,
   "id": "daa2ef31",
   "metadata": {},
   "outputs": [],
   "source": [
    "results = search.fit(X_train, y_train)"
   ]
  },
  {
   "cell_type": "code",
   "execution_count": null,
   "id": "0bd7bf01",
   "metadata": {},
   "outputs": [],
   "source": [
    "print('MAE: %.3f' % results.best_score_)\n",
    "print('Config: %s' % results.best_params_)"
   ]
  },
  {
   "cell_type": "markdown",
   "id": "14b8c715",
   "metadata": {},
   "source": [
    "The results from the GridSearchCV shows that the best hyperparameter is 0.01 and that the mean absolute error (MAE) is -5.53, which is the average offset from the predicted value, not too shabby."
   ]
  },
  {
   "cell_type": "code",
   "execution_count": null,
   "id": "c218d2ba",
   "metadata": {},
   "outputs": [],
   "source": [
    "lass_m = Lasso(alpha = 0.01)"
   ]
  },
  {
   "cell_type": "code",
   "execution_count": null,
   "id": "c3a9618c",
   "metadata": {},
   "outputs": [],
   "source": [
    "lass_m.fit(X_train, y_train)"
   ]
  },
  {
   "cell_type": "code",
   "execution_count": null,
   "id": "5ce94d0f",
   "metadata": {},
   "outputs": [],
   "source": [
    "predicted_vals = lass_m.predict(X_test)"
   ]
  },
  {
   "cell_type": "code",
   "execution_count": null,
   "id": "19bb55d5",
   "metadata": {},
   "outputs": [],
   "source": [
    "score = r2_score(y_test, predicted_vals)\n",
    "score"
   ]
  },
  {
   "cell_type": "markdown",
   "id": "23025628",
   "metadata": {},
   "source": [
    "The result is more disappointing than expected, the Lasso with the most optimal hyperparameter gave out slightly worse results than the Linear regression with an accuracy of 47.6% compared to the 47.7% (neglible but disappointing still)."
   ]
  },
  {
   "cell_type": "markdown",
   "id": "b11e03e2",
   "metadata": {},
   "source": [
    "Although our previous models disappointed, I still want to try one last model that showed great potential when it comes to predicting continuous variables such as our Mean Score, the CatBoostRegressor."
   ]
  },
  {
   "cell_type": "code",
   "execution_count": null,
   "id": "e2121eb5",
   "metadata": {},
   "outputs": [],
   "source": []
  },
  {
   "cell_type": "code",
   "execution_count": null,
   "id": "60e50c84",
   "metadata": {},
   "outputs": [],
   "source": []
  },
  {
   "cell_type": "code",
   "execution_count": null,
   "id": "9e0b2428",
   "metadata": {},
   "outputs": [],
   "source": []
  },
  {
   "cell_type": "code",
   "execution_count": null,
   "id": "1381cf5e",
   "metadata": {},
   "outputs": [],
   "source": []
  }
 ],
 "metadata": {
  "kernelspec": {
   "display_name": "Python 3 (ipykernel)",
   "language": "python",
   "name": "python3"
  },
  "language_info": {
   "codemirror_mode": {
    "name": "ipython",
    "version": 3
   },
   "file_extension": ".py",
   "mimetype": "text/x-python",
   "name": "python",
   "nbconvert_exporter": "python",
   "pygments_lexer": "ipython3",
   "version": "3.8.8"
  }
 },
 "nbformat": 4,
 "nbformat_minor": 5
}
